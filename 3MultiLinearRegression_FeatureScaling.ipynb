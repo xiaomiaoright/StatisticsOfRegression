{
 "cells": [
  {
   "cell_type": "code",
   "execution_count": 1,
   "metadata": {},
   "outputs": [],
   "source": [
    "import numpy as np\n",
    "import pandas as pd\n",
    "import matplotlib.pyplot as plt\n",
    "import seaborn as sns\n",
    "sns.set()\n",
    "from sklearn.linear_model import LinearRegression"
   ]
  },
  {
   "cell_type": "code",
   "execution_count": 2,
   "metadata": {},
   "outputs": [
    {
     "output_type": "execute_result",
     "data": {
      "text/plain": "               SAT  Rand 1,2,3        GPA\ncount    84.000000   84.000000  84.000000\nmean   1845.273810    2.059524   3.330238\nstd     104.530661    0.855192   0.271617\nmin    1634.000000    1.000000   2.400000\n25%    1772.000000    1.000000   3.190000\n50%    1846.000000    2.000000   3.380000\n75%    1934.000000    3.000000   3.502500\nmax    2050.000000    3.000000   3.810000",
      "text/html": "<div>\n<style scoped>\n    .dataframe tbody tr th:only-of-type {\n        vertical-align: middle;\n    }\n\n    .dataframe tbody tr th {\n        vertical-align: top;\n    }\n\n    .dataframe thead th {\n        text-align: right;\n    }\n</style>\n<table border=\"1\" class=\"dataframe\">\n  <thead>\n    <tr style=\"text-align: right;\">\n      <th></th>\n      <th>SAT</th>\n      <th>Rand 1,2,3</th>\n      <th>GPA</th>\n    </tr>\n  </thead>\n  <tbody>\n    <tr>\n      <th>count</th>\n      <td>84.000000</td>\n      <td>84.000000</td>\n      <td>84.000000</td>\n    </tr>\n    <tr>\n      <th>mean</th>\n      <td>1845.273810</td>\n      <td>2.059524</td>\n      <td>3.330238</td>\n    </tr>\n    <tr>\n      <th>std</th>\n      <td>104.530661</td>\n      <td>0.855192</td>\n      <td>0.271617</td>\n    </tr>\n    <tr>\n      <th>min</th>\n      <td>1634.000000</td>\n      <td>1.000000</td>\n      <td>2.400000</td>\n    </tr>\n    <tr>\n      <th>25%</th>\n      <td>1772.000000</td>\n      <td>1.000000</td>\n      <td>3.190000</td>\n    </tr>\n    <tr>\n      <th>50%</th>\n      <td>1846.000000</td>\n      <td>2.000000</td>\n      <td>3.380000</td>\n    </tr>\n    <tr>\n      <th>75%</th>\n      <td>1934.000000</td>\n      <td>3.000000</td>\n      <td>3.502500</td>\n    </tr>\n    <tr>\n      <th>max</th>\n      <td>2050.000000</td>\n      <td>3.000000</td>\n      <td>3.810000</td>\n    </tr>\n  </tbody>\n</table>\n</div>"
     },
     "metadata": {},
     "execution_count": 2
    }
   ],
   "source": [
    "data = pd.read_csv('1.02. Multiple linear regression.csv')\n",
    "data.describe()"
   ]
  },
  {
   "cell_type": "code",
   "execution_count": 3,
   "metadata": {},
   "outputs": [],
   "source": [
    "x = data[['SAT','Rand 1,2,3']]\n",
    "y = data['GPA']"
   ]
  },
  {
   "cell_type": "markdown",
   "metadata": {},
   "source": [
    "## Scaler"
   ]
  },
  {
   "cell_type": "code",
   "execution_count": 10,
   "metadata": {},
   "outputs": [
    {
     "output_type": "stream",
     "name": "stdout",
     "text": "[[-1.26338288 -1.24637147]\n [-1.74458431  1.10632974]\n [-0.82067757  1.10632974]\n [-1.54247971  1.10632974]\n [-1.46548748 -0.07002087]\n [-1.68684014 -1.24637147]\n [-0.78218146 -0.07002087]\n [-0.78218146 -1.24637147]\n [-0.51270866 -0.07002087]\n [ 0.04548499  1.10632974]\n [-1.06127829  1.10632974]\n [-0.67631715 -0.07002087]\n [-1.06127829 -1.24637147]\n [-1.28263094  1.10632974]\n [-0.6955652  -0.07002087]\n [ 0.25721362 -0.07002087]\n [-0.86879772  1.10632974]\n [-1.64834403 -0.07002087]\n [-0.03150724  1.10632974]\n [-0.57045283  1.10632974]\n [-0.81105355  1.10632974]\n [-1.18639066  1.10632974]\n [-1.75420834  1.10632974]\n [-1.52323165 -1.24637147]\n [ 1.23886453 -1.24637147]\n [-0.18549169 -1.24637147]\n [-0.5608288  -1.24637147]\n [-0.23361183  1.10632974]\n [ 1.68156984 -1.24637147]\n [-0.4934606  -0.07002087]\n [-0.73406132 -1.24637147]\n [ 0.85390339 -1.24637147]\n [-0.67631715 -1.24637147]\n [ 0.09360513  1.10632974]\n [ 0.33420585 -0.07002087]\n [ 0.03586096 -0.07002087]\n [-0.35872421  1.10632974]\n [ 1.04638396  1.10632974]\n [-0.65706909  1.10632974]\n [-0.13737155 -0.07002087]\n [ 0.18984542  1.10632974]\n [ 0.04548499 -1.24637147]\n [ 1.1618723   1.10632974]\n [-1.37887123 -1.24637147]\n [ 1.39284898 -1.24637147]\n [ 0.76728713 -0.07002087]\n [-0.20473975 -0.07002087]\n [ 1.06563201 -1.24637147]\n [ 0.11285319 -1.24637147]\n [ 1.28698467  1.10632974]\n [-0.41646838  1.10632974]\n [ 0.09360513 -1.24637147]\n [ 0.59405462 -0.07002087]\n [-2.03330517 -0.07002087]\n [ 0.32458182 -1.24637147]\n [ 0.40157405 -1.24637147]\n [-1.10939843 -0.07002087]\n [ 1.03675993 -1.24637147]\n [-0.61857297 -0.07002087]\n [ 0.44007016 -0.07002087]\n [ 1.14262424 -1.24637147]\n [-0.35872421  1.10632974]\n [ 0.45931822  1.10632974]\n [ 1.88367444  1.10632974]\n [ 0.45931822 -1.24637147]\n [-0.12774752 -0.07002087]\n [ 0.04548499  1.10632974]\n [ 0.85390339 -0.07002087]\n [ 0.15134931 -0.07002087]\n [ 0.8250313   1.10632974]\n [ 0.84427936  1.10632974]\n [-0.64744506 -1.24637147]\n [ 1.24848856 -1.24637147]\n [ 0.85390339  1.10632974]\n [ 1.69119387  1.10632974]\n [ 1.6334497   1.10632974]\n [ 1.46021718 -1.24637147]\n [ 1.68156984 -0.07002087]\n [-0.02188321  1.10632974]\n [ 0.87315144  1.10632974]\n [-0.33947615 -1.24637147]\n [ 1.3639769   1.10632974]\n [ 1.12337618 -1.24637147]\n [ 1.97029069 -0.07002087]]\n"
    }
   ],
   "source": [
    "from sklearn.preprocessing import StandardScaler\n",
    "scaler = StandardScaler()\n",
    "scaler.fit(x)\n",
    "x_scaled = scaler.transform(x)\n",
    "\n",
    "print(x_scaled)"
   ]
  },
  {
   "cell_type": "markdown",
   "metadata": {},
   "source": [
    "## Regression model with Scaled data"
   ]
  },
  {
   "cell_type": "code",
   "execution_count": 12,
   "metadata": {},
   "outputs": [
    {
     "output_type": "stream",
     "name": "stdout",
     "text": "coff_:  [ 0.17181389 -0.00703007]\nintercept_:  3.330238095238095\nR2:  0.4066811952814283\nAdjusted R2:  0.3920313482513401\n"
    }
   ],
   "source": [
    "reg = LinearRegression()\n",
    "reg.fit(x_scaled,y)\n",
    "print('coff_: ',reg.coef_)\n",
    "print('intercept_: ', reg.intercept_)\n",
    "\n",
    "# define funtion of adjusted R2\n",
    "def adj_r2 (r2, n, p):\n",
    "    return 1-(1-r2)*(n-1)/(n-p-1)\n",
    "r2 = reg.score(x_scaled,y)\n",
    "n = x_scaled.shape[0]\n",
    "p = x_scaled.shape[1]   \n",
    "print('R2: ', r2)\n",
    "print('Adjusted R2: ', adj_r2(r2, n, p))"
   ]
  },
  {
   "cell_type": "code",
   "execution_count": 24,
   "metadata": {},
   "outputs": [
    {
     "output_type": "execute_result",
     "data": {
      "text/plain": "       Features\n0          bias\n1           SAT\n2  Random 1,2,3",
      "text/html": "<div>\n<style scoped>\n    .dataframe tbody tr th:only-of-type {\n        vertical-align: middle;\n    }\n\n    .dataframe tbody tr th {\n        vertical-align: top;\n    }\n\n    .dataframe thead th {\n        text-align: right;\n    }\n</style>\n<table border=\"1\" class=\"dataframe\">\n  <thead>\n    <tr style=\"text-align: right;\">\n      <th></th>\n      <th>Features</th>\n    </tr>\n  </thead>\n  <tbody>\n    <tr>\n      <th>0</th>\n      <td>bias</td>\n    </tr>\n    <tr>\n      <th>1</th>\n      <td>SAT</td>\n    </tr>\n    <tr>\n      <th>2</th>\n      <td>Random 1,2,3</td>\n    </tr>\n  </tbody>\n</table>\n</div>"
     },
     "metadata": {},
     "execution_count": 24
    }
   ],
   "source": [
    "# Create a summary table\n",
    "summary = pd.DataFrame(data = ['bias', 'SAT', 'Random 1,2,3'], columns= ['Features'])\n",
    "summary"
   ]
  },
  {
   "cell_type": "code",
   "execution_count": 26,
   "metadata": {},
   "outputs": [
    {
     "output_type": "execute_result",
     "data": {
      "text/plain": "       Features   Weights\n0          bias  3.330238\n1           SAT  0.171814\n2  Random 1,2,3 -0.007030",
      "text/html": "<div>\n<style scoped>\n    .dataframe tbody tr th:only-of-type {\n        vertical-align: middle;\n    }\n\n    .dataframe tbody tr th {\n        vertical-align: top;\n    }\n\n    .dataframe thead th {\n        text-align: right;\n    }\n</style>\n<table border=\"1\" class=\"dataframe\">\n  <thead>\n    <tr style=\"text-align: right;\">\n      <th></th>\n      <th>Features</th>\n      <th>Weights</th>\n    </tr>\n  </thead>\n  <tbody>\n    <tr>\n      <th>0</th>\n      <td>bias</td>\n      <td>3.330238</td>\n    </tr>\n    <tr>\n      <th>1</th>\n      <td>SAT</td>\n      <td>0.171814</td>\n    </tr>\n    <tr>\n      <th>2</th>\n      <td>Random 1,2,3</td>\n      <td>-0.007030</td>\n    </tr>\n  </tbody>\n</table>\n</div>"
     },
     "metadata": {},
     "execution_count": 26
    }
   ],
   "source": [
    "summary['Weights'] = reg.intercept_, reg.coef_[0], reg.coef_[1]\n",
    "summary"
   ]
  },
  {
   "cell_type": "markdown",
   "metadata": {},
   "source": [
    "## Prediction"
   ]
  },
  {
   "cell_type": "code",
   "execution_count": 27,
   "metadata": {},
   "outputs": [
    {
     "output_type": "execute_result",
     "data": {
      "text/plain": "    SAT  Rand 1,2,3\n0  1700           2\n1  1800           1",
      "text/html": "<div>\n<style scoped>\n    .dataframe tbody tr th:only-of-type {\n        vertical-align: middle;\n    }\n\n    .dataframe tbody tr th {\n        vertical-align: top;\n    }\n\n    .dataframe thead th {\n        text-align: right;\n    }\n</style>\n<table border=\"1\" class=\"dataframe\">\n  <thead>\n    <tr style=\"text-align: right;\">\n      <th></th>\n      <th>SAT</th>\n      <th>Rand 1,2,3</th>\n    </tr>\n  </thead>\n  <tbody>\n    <tr>\n      <th>0</th>\n      <td>1700</td>\n      <td>2</td>\n    </tr>\n    <tr>\n      <th>1</th>\n      <td>1800</td>\n      <td>1</td>\n    </tr>\n  </tbody>\n</table>\n</div>"
     },
     "metadata": {},
     "execution_count": 27
    }
   ],
   "source": [
    "new_data = pd.DataFrame(data=[[1700,2],[1800,1]],columns=['SAT','Rand 1,2,3'])\n",
    "new_data"
   ]
  },
  {
   "cell_type": "code",
   "execution_count": 28,
   "metadata": {},
   "outputs": [
    {
     "output_type": "execute_result",
     "data": {
      "text/plain": "array([3.09051403, 3.26413803])"
     },
     "metadata": {},
     "execution_count": 28
    }
   ],
   "source": [
    "new_data_scaled = scaler.transform(new_data)\n",
    "reg.predict(new_data_scaled)"
   ]
  },
  {
   "cell_type": "code",
   "execution_count": null,
   "metadata": {},
   "outputs": [],
   "source": []
  }
 ],
 "metadata": {
  "language_info": {
   "codemirror_mode": {
    "name": "ipython",
    "version": 3
   },
   "file_extension": ".py",
   "mimetype": "text/x-python",
   "name": "python",
   "nbconvert_exporter": "python",
   "pygments_lexer": "ipython3",
   "version": "3.8.2-final"
  },
  "orig_nbformat": 2,
  "kernelspec": {
   "name": "python3",
   "display_name": "Python 3"
  }
 },
 "nbformat": 4,
 "nbformat_minor": 2
}