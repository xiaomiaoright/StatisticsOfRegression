{
 "cells": [
  {
   "cell_type": "code",
   "execution_count": 1,
   "metadata": {},
   "outputs": [],
   "source": [
    "import numpy as np\n",
    "from sklearn.model_selection import train_test_split"
   ]
  },
  {
   "cell_type": "code",
   "execution_count": 2,
   "metadata": {},
   "outputs": [
    {
     "output_type": "stream",
     "name": "stdout",
     "text": "[  1   2   3   4   5   6   7   8   9  10  11  12  13  14  15  16  17  18\n  19  20  21  22  23  24  25  26  27  28  29  30  31  32  33  34  35  36\n  37  38  39  40  41  42  43  44  45  46  47  48  49  50  51  52  53  54\n  55  56  57  58  59  60  61  62  63  64  65  66  67  68  69  70  71  72\n  73  74  75  76  77  78  79  80  81  82  83  84  85  86  87  88  89  90\n  91  92  93  94  95  96  97  98  99 100]\n[501 502 503 504 505 506 507 508 509 510 511 512 513 514 515 516 517 518\n 519 520 521 522 523 524 525 526 527 528 529 530 531 532 533 534 535 536\n 537 538 539 540 541 542 543 544 545 546 547 548 549 550 551 552 553 554\n 555 556 557 558 559 560 561 562 563 564 565 566 567 568 569 570 571 572\n 573 574 575 576 577 578 579 580 581 582 583 584 585 586 587 588 589 590\n 591 592 593 594 595 596 597 598 599 600]\n"
    }
   ],
   "source": [
    "a = np.arange(1,101)\n",
    "b = np.arange(501,601)\n",
    "print(a)\n",
    "print(b)"
   ]
  },
  {
   "cell_type": "code",
   "execution_count": 3,
   "metadata": {},
   "outputs": [],
   "source": [
    "a_train, a_test, b_train, b_test = train_test_split(a, b, test_size=0.2, random_state=365)"
   ]
  },
  {
   "cell_type": "code",
   "execution_count": 4,
   "metadata": {},
   "outputs": [
    {
     "output_type": "execute_result",
     "data": {
      "text/plain": "array([ 25,  32,  99,  73,  91,  66,   3,  59,  94,   1,   8,  15,  90,\n        54,  31,  20,  77,  82,  30,  35,  95,  42,  38,   7,  11,  50,\n        21,  48,   2,  17,  10,  58,  68,  43,  41,  16,  88,  72,  79,\n       100,  80,  39,  24,  86,  22,  23,  62,  76,  18,  47,  55,  26,\n        60,  19,  71,  64,  51,  63,  65,  28,  12,  78,  13,  44,  75,\n        87,  40,   4,  29,  49,  37,  57,  27,  74,   6,  45,  92,  34,\n        53,  83])"
     },
     "metadata": {},
     "execution_count": 4
    }
   ],
   "source": [
    "a_train"
   ]
  },
  {
   "cell_type": "code",
   "execution_count": null,
   "metadata": {},
   "outputs": [],
   "source": [
    "b_train"
   ]
  },
  {
   "cell_type": "code",
   "execution_count": null,
   "metadata": {},
   "outputs": [],
   "source": []
  }
 ],
 "metadata": {
  "language_info": {
   "codemirror_mode": {
    "name": "ipython",
    "version": 3
   },
   "file_extension": ".py",
   "mimetype": "text/x-python",
   "name": "python",
   "nbconvert_exporter": "python",
   "pygments_lexer": "ipython3",
   "version": "3.8.2-final"
  },
  "orig_nbformat": 2,
  "kernelspec": {
   "name": "python3",
   "display_name": "Python 3"
  }
 },
 "nbformat": 4,
 "nbformat_minor": 2
}